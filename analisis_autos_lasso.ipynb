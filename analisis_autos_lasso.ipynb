{
 "cells": [
  {
   "cell_type": "markdown",
   "id": "8959fb97",
   "metadata": {},
   "source": [
    "# Analisis de Autos Usados"
   ]
  },
  {
   "cell_type": "markdown",
   "id": "22e6fda9",
   "metadata": {},
   "source": [
    "Lucho Feb|2023 <br>\n",
    "Ton Visage By Frero Delevega\n"
   ]
  },
  {
   "cell_type": "markdown",
   "id": "e727ef5c",
   "metadata": {},
   "source": [
    "## ¿Qué es la Matriz de Lasso?\n",
    "\n",
    "**Lasso (Least Absolute Shrinkage and Selection Operator)** es una técnica de regularización utilizada en modelos de regresión lineal. Su objetivo principal es prevenir el sobreajuste (overfitting) y mejorar la interpretabilidad del modelo al reducir algunos coeficientes exactamente a cero.\n",
    "\n",
    "### ¿En qué consiste?\n",
    "\n",
    "Lasso agrega una penalización basada en la **suma de los valores absolutos** de los coeficientes al término de pérdida del modelo. Matemáticamente, la función de costo de Lasso es:\n",
    "\n",
    "\\[\n",
    "\\text{Costo}_{Lasso} = \\sum_{i=1}^{n}(y_i - \\hat{y}_i)^2 + \\lambda \\sum_{j=1}^{p}|\\beta_j|\n",
    "\\]\n",
    "\n",
    "Donde:\n",
    "\n",
    "- \\( y_i \\) es el valor real\n",
    "- \\( \\hat{y}_i \\) es el valor predicho\n",
    "- \\( \\beta_j \\) son los coeficientes del modelo\n",
    "- \\( \\lambda \\) es el parámetro de regularización\n",
    "- \\( n \\) es el número de muestras\n",
    "- \\( p \\) es el número de características (features)\n",
    "\n",
    "### ¿Qué es la \"matriz de Lasso\"?\n",
    "\n",
    "En un sentido estricto, **no existe una matriz específica llamada \"matriz de Lasso\"**, pero en el proceso de entrenamiento del modelo Lasso se utilizan:\n",
    "\n",
    "- La **matriz de características \\(X\\)**: que contiene los datos de entrada (tamaño \\(n \\times p\\))\n",
    "- El **vector de salida \\(y\\)**: que contiene las etiquetas o valores objetivo\n",
    "- Un modelo que encuentra los coeficientes \\( \\beta \\) resolviendo un problema de optimización regularizado\n",
    "\n",
    "En resumen, cuando se menciona la \"matriz de Lasso\", se puede estar refiriendo informalmente a la **matriz de diseño \\(X\\)** utilizada durante el entrenamiento del modelo Lasso.\n",
    "\n",
    "### Ventajas de Lasso\n",
    "\n",
    "- Realiza **selección de variables** automáticamente (al reducir coeficientes a cero).\n",
    "- Mejora la **interpretabilidad** del modelo.\n",
    "- Controla el **sobreajuste**, especialmente cuando hay muchas variables.\n",
    "\n",
    "### Cuándo Usar Lasso\n",
    "\n",
    "- Cuando se sospecha que muchas variables no aportan información útil.\n",
    "- Cuando se desea un modelo más simple y fácil de interpretar.\n",
    "\n",
    "---\n",
    "\n",
    "> 💡 Nota: Lasso es especialmente útil cuando hay más características que observaciones o cuando existe multicolinealidad entre las variables.\n"
   ]
  },
  {
   "cell_type": "markdown",
   "id": "708b7fef",
   "metadata": {},
   "source": [
    "### Conjunto de Datos de Autos Usados\n",
    "\n",
    "Este conjunto de datos contiene información sobre autos usados.  \n",
    "Estos datos pueden ser utilizados para diversos fines, como la predicción de precios para ejemplificar el uso de la regresión lineal en el Aprendizaje Automático (Machine Learning).\n",
    "\n",
    "#### Las columnas del conjunto de datos son las siguientes:\n",
    "\n",
    "- **name**: nombre  \n",
    "- **year**: año  \n",
    "- **selling_price**: precio de venta  \n",
    "- **km_driven**: kilómetros recorridos  \n",
    "- **fuel**: tipo de combustible  \n",
    "- **seller_type**: tipo de vendedor  \n",
    "- **transmission**: tipo de transmisión  \n",
    "- **Owner**: propietario (número de dueños anteriores)"
   ]
  },
  {
   "cell_type": "markdown",
   "id": "6a886601",
   "metadata": {},
   "source": [
    "### Import Packages"
   ]
  },
  {
   "cell_type": "code",
   "execution_count": 1,
   "id": "a61e6a72",
   "metadata": {},
   "outputs": [],
   "source": [
    "import pandas as pd\n",
    "import matplotlib.pyplot as plt\n",
    "import seaborn as sns\n",
    "from sklearn.model_selection import train_test_split\n",
    "from sklearn.linear_model import LinearRegression\n",
    "from sklearn.linear_model import Lasso\n",
    "from sklearn import metrics"
   ]
  },
  {
   "cell_type": "markdown",
   "id": "bfcfb2f7",
   "metadata": {},
   "source": [
    "### Import Dataset| Data proccesing & Data Collection"
   ]
  },
  {
   "cell_type": "code",
   "execution_count": null,
   "id": "9f39c263",
   "metadata": {},
   "outputs": [],
   "source": [
    "df = pd.read_csv(r\"\")\n",
    "df_raw = df.copy()\n",
    "df.head()"
   ]
  }
 ],
 "metadata": {
  "kernelspec": {
   "display_name": "base",
   "language": "python",
   "name": "python3"
  },
  "language_info": {
   "codemirror_mode": {
    "name": "ipython",
    "version": 3
   },
   "file_extension": ".py",
   "mimetype": "text/x-python",
   "name": "python",
   "nbconvert_exporter": "python",
   "pygments_lexer": "ipython3",
   "version": "3.12.7"
  }
 },
 "nbformat": 4,
 "nbformat_minor": 5
}
